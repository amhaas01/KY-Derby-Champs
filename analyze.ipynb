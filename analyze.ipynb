{
 "cells": [
  {
   "attachments": {},
   "cell_type": "markdown",
   "metadata": {},
   "source": [
    "# Kentucky Derby Winners: 1875-2022\n",
    "\n",
    "- Fastest time for each Track Condition\n",
    "- Top 3 Winning Trainers\n",
    "- Top 3 Winning Owners\n"
   ]
  },
  {
   "cell_type": "code",
   "execution_count": 20,
   "metadata": {},
   "outputs": [],
   "source": [
    "import pandas as pd\n",
    "import numpy as np"
   ]
  },
  {
   "attachments": {},
   "cell_type": "markdown",
   "metadata": {},
   "source": [
    "Identify different Track Conditions"
   ]
  },
  {
   "cell_type": "code",
   "execution_count": 30,
   "metadata": {},
   "outputs": [
    {
     "name": "stdout",
     "output_type": "stream",
     "text": [
      "['Fast' 'Sloppy' 'Wet Fast (sealed)' 'Good' 'Muddy' 'Slow' 'Heavy']\n"
     ]
    }
   ],
   "source": [
    "clean_df = pd.read_csv('results/clean.csv')\n",
    "clean_df.sort_values(by=[\"Track Condition\", \"Time\"], ascending=True)\n",
    "print(clean_df[\"Track Condition\"].unique())\n",
    "\n",
    "#pd.set_option('display.max_rows', None)\n",
    "#track_times = KY1_df[['track_condition','time_string']].sort_values(by = ['track_condition', 'time_string'], axis=0, ascending=[True, True], inplace=False)\n",
    "#print(track_times)\n",
    "\n"
   ]
  },
  {
   "attachments": {},
   "cell_type": "markdown",
   "metadata": {},
   "source": [
    "Identify Fastest times for each track condition"
   ]
  },
  {
   "cell_type": "code",
   "execution_count": 31,
   "metadata": {},
   "outputs": [
    {
     "name": "stdout",
     "output_type": "stream",
     "text": [
      "       Track Condition     Time\n",
      "48                Fast  01:59.4\n",
      "20                Fast  02:00.0\n",
      "57                Fast  02:00.0\n",
      "31                Good  02:02.0\n",
      "61                Good  02:02.4\n",
      "51                Good  02:03.4\n",
      "102              Heavy  02:09.8\n",
      "93               Heavy  02:10.4\n",
      "116              Heavy  02:10.8\n",
      "32               Muddy  02:05.0\n",
      "63               Muddy  02:05.0\n",
      "76               Muddy  02:07.0\n",
      "12              Sloppy  02:02.7\n",
      "8               Sloppy  02:02.9\n",
      "27              Sloppy  02:03.6\n",
      "94                Slow  02:06.0\n",
      "75                Slow  02:06.6\n",
      "74                Slow  02:06.8\n",
      "4    Wet Fast (sealed)  02:03.6\n"
     ]
    }
   ],
   "source": [
    "#Correlation between track condition & time\n",
    "\n",
    "pd.set_option('display.max_rows', None)\n",
    "track_times = clean_df[['Track Condition','Time']].sort_values(by = ['Track Condition', 'Time'], axis=0, ascending=[True, True], inplace=False)\n",
    "track_times= track_times.groupby(\"Track Condition\").head(3)\n",
    "print(track_times)"
   ]
  },
  {
   "attachments": {},
   "cell_type": "markdown",
   "metadata": {},
   "source": [
    "Identify Top 3 Winning Trainers by time"
   ]
  },
  {
   "cell_type": "code",
   "execution_count": 35,
   "metadata": {},
   "outputs": [
    {
     "name": "stdout",
     "output_type": "stream",
     "text": [
      "    Unnamed: 0  Year           winner           jockey           trainer  \\\n",
      "48          49  1973      Secretariat     Ron Turcotte     Lucien Laurin   \n",
      "57          58  1964  Northern Dancer     Bill Hartack      Horatio Luro   \n",
      "20          21  2001        Monarchos  Jorge F. Chavez  John T. Ward Jr.   \n",
      "\n",
      "              owner  distance Track Condition     Time triple_crown_winner  \\\n",
      "48    Meadow Stable      1.25            Fast  01:59.4                 Yes   \n",
      "57  Windfields Farm      1.25            Fast  02:00.0                  No   \n",
      "20    John C. Oxley      1.25            Fast  02:00.0                  No   \n",
      "\n",
      "       Earnings  \n",
      "48  $1,316,808   \n",
      "57    $580,647   \n",
      "20  $1,720,830   \n"
     ]
    }
   ],
   "source": [
    "clean_df.sort_values(by=['Time', 'trainer'],inplace = True)\n",
    "print(clean_df.head(3))\n"
   ]
  },
  {
   "attachments": {},
   "cell_type": "markdown",
   "metadata": {},
   "source": [
    "Top 3 Winning Owners (how many times they won)"
   ]
  }
 ],
 "metadata": {
  "kernelspec": {
   "display_name": "virenv",
   "language": "python",
   "name": "python3"
  },
  "language_info": {
   "codemirror_mode": {
    "name": "ipython",
    "version": 3
   },
   "file_extension": ".py",
   "mimetype": "text/x-python",
   "name": "python",
   "nbconvert_exporter": "python",
   "pygments_lexer": "ipython3",
   "version": "3.11.1"
  },
  "orig_nbformat": 4
 },
 "nbformat": 4,
 "nbformat_minor": 2
}
