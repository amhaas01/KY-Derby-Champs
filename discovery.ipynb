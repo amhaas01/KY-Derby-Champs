{
 "cells": [
  {
   "attachments": {},
   "cell_type": "markdown",
   "metadata": {},
   "source": [
    "# Kentucky Derby Winners: 1875-2022\n",
    "\n",
    "Anaylsis of 148 years of Derby Races\n",
    "\n",
    "Data Sources: \n",
    "- https://www.kaggle.com/datasets/danbraswell/kentucky-derby-winners-18752022 \n",
    "- https://www.gobankingrates.com/net-worth/sports/how-much-did-kentucky-derby-winners-make/ \n",
    "\n",
    "## Definitions\n",
    "\n",
    "- **year** : race year\n",
    "- **winner**: the winning horse\n",
    "- **jockey**: the winning jockey\n",
    "- **trainer**: trainer of the winning horse\n",
    "- **owner**: owner of the winning horse\n",
    "- **distance**: distance of the race in miles\n",
    "- **track_condition**: track conditions\n",
    "- **time_string**: winning time in the format of Minutes:Seconds\n",
    "- **time_sec**: winning time in seconds\n",
    "- **triple_crown_winner**: flag to denote Triple Crown winner"
   ]
  },
  {
   "cell_type": "code",
   "execution_count": 100,
   "metadata": {},
   "outputs": [
    {
     "data": {
      "text/plain": [
       "Index(['year', 'winner', 'jockey', 'trainer', 'owner', 'distance',\n",
       "       'track_condition', 'time_string', 'time_sec', 'triple_crown_winner'],\n",
       "      dtype='object')"
      ]
     },
     "execution_count": 100,
     "metadata": {},
     "output_type": "execute_result"
    }
   ],
   "source": [
    "import pandas as pd\n",
    "\n",
    "\n",
    "KY1_df = pd.read_csv('data/KY_Derby_Data1.csv')\n",
    "KY1_df.columns"
   ]
  },
  {
   "cell_type": "code",
   "execution_count": 101,
   "metadata": {},
   "outputs": [
    {
     "data": {
      "text/plain": [
       "Index(['Year_winner', 'Owner', 'Earnings', 'Earnings_2022'], dtype='object')"
      ]
     },
     "execution_count": 101,
     "metadata": {},
     "output_type": "execute_result"
    }
   ],
   "source": [
    "KY2_df = pd.read_csv('data/KY_Derby_Data2.csv')\n",
    "KY2_df.columns"
   ]
  },
  {
   "cell_type": "code",
   "execution_count": 102,
   "metadata": {},
   "outputs": [
    {
     "name": "stdout",
     "output_type": "stream",
     "text": [
      "     year winner jockey trainer owner  distance track_condition time_string  \\\n",
      "148   NaN    NaN    NaN     NaN   NaN       NaN             NaN         NaN   \n",
      "149   NaN    NaN    NaN     NaN   NaN       NaN             NaN         NaN   \n",
      "150   NaN    NaN    NaN     NaN   NaN       NaN             NaN         NaN   \n",
      "151   NaN    NaN    NaN     NaN   NaN       NaN             NaN         NaN   \n",
      "152   NaN    NaN    NaN     NaN   NaN       NaN             NaN         NaN   \n",
      "\n",
      "     time_sec triple_crown_winner         Year_winner               Owner  \\\n",
      "148       NaN                 NaN   1930: Gallant Fox         Belair Stud   \n",
      "149       NaN                 NaN  1931: Twenty Grand    Greentree Stable   \n",
      "150       NaN                 NaN   1932: Burgoo King   Edward R. Bradley   \n",
      "151       NaN                 NaN   1933: Brokers Tip   Edward R. Bradley   \n",
      "152       NaN                 NaN     1934: Cavalcade   Brookmeade Stable   \n",
      "\n",
      "      Earnings Earnings_2022  \n",
      "148  $328,165    $5,582,766   \n",
      "149  $261,790    $4,919,325   \n",
      "150  $110,940    $2,328,153   \n",
      "151   $49,600    $1,131,762   \n",
      "152  $127,165    $2,748,906   \n"
     ]
    }
   ],
   "source": [
    "KY2_df['Year_winner'] = KY2_df['Year_winner'].str.slice(0,4)\n",
    "KY2_df.rename(columns={'Year_winner': 'year'}, inplace = True)\n",
    "KY2_df = KY2_df.sort_values(['year'], ascending=[False])\n",
    "\n",
    "# derby = pd.concat([KY2_df.set_index('year'),KY1_df.set_index('year')], axis=1, join='outer').reset_index()\n",
    "#derby = pd.concat([KY2_df, KY1_df], ignore_index=True, sort=False)\n",
    "KY1_df = pd.read_csv('data/KY_Derby_Data1.csv')\n",
    "KY2_df = pd.read_csv('data/KY_Derby_Data2.csv')\n",
    "#pd.concat([KY1_df, KY2_df]).to_csv('data/KY3.csv', index=False)\n",
    "\n",
    "KY3_df = pd.read_csv('data/KY3.csv')\n",
    "\n",
    "# If you have space in column name\n",
    "# Specify column name with in single quotes\n",
    "# KY3_df = KY3_df[KY3_df['Earnings'] == '']\n",
    "\n",
    "# Drop rows with None/NaN\n",
    "KY3_df = KY3_df[KY3_df.Earnings.notnull()]\n",
    "\n",
    "print(KY3_df.head())"
   ]
  }
 ],
 "metadata": {
  "kernelspec": {
   "display_name": "virenv",
   "language": "python",
   "name": "python3"
  },
  "language_info": {
   "codemirror_mode": {
    "name": "ipython",
    "version": 3
   },
   "file_extension": ".py",
   "mimetype": "text/x-python",
   "name": "python",
   "nbconvert_exporter": "python",
   "pygments_lexer": "ipython3",
   "version": "3.11.1"
  },
  "orig_nbformat": 4
 },
 "nbformat": 4,
 "nbformat_minor": 2
}
